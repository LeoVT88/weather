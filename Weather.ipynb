{
 "cells": [
  {
   "cell_type": "code",
   "execution_count": 3,
   "metadata": {},
   "outputs": [
    {
     "name": "stdout",
     "output_type": "stream",
     "text": [
      "Калуга, городской округ Калуга, Калужская область, Центральный федеральный округ, Россия\n",
      "Температура вечером 15 градусов, осадки: дождь\n",
      "Температура сейчас 16 градусов, осадки: дождь\n",
      "Температура ночью 14 градусов, осадки: дождь\n",
      "Более подробно: https://yandex.ru/pogoda/6?lat=54.5101087&lon=36.2598115\n"
     ]
    }
   ],
   "source": [
    "from requests import get\n",
    "import json\n",
    "from geopy.geocoders import Nominatim\n",
    "\n",
    "# получаем название города и его координаты\n",
    "city_name = input('Введите название города, погода которого вас интересует: \\n')\n",
    "geolocator = Nominatim(user_agent=\"TLV\")\n",
    "location = geolocator.geocode(city_name)\n",
    "\n",
    "# это бы надо спрятать\n",
    "token_yandex = '1393e7a4-cdcc-4413-9568-6a7d46ee9419'\n",
    "\n",
    "# получаем инфу от яндекс.погоды\n",
    "url = f'https://api.weather.yandex.ru/v2/informers?lat={location.latitude}&lon={location.longitude}&[lang=ru_RU]'\n",
    "request = get(url, headers={'X-Yandex-API-Key': token_yandex})\n",
    "data = json.loads(request.text)\n",
    "\n",
    "#словари для парсинга инфы\n",
    "conditions = {'clear': 'ясно', 'partly-cloudy': 'малооблачно', 'cloudy': 'облачно с прояснениями',\n",
    "              'overcast': 'пасмурно', 'drizzle': 'морось', 'light-rain': 'небольшой дождь',\n",
    "              'rain': 'дождь', 'moderate-rain': 'умеренно сильный', 'heavy-rain': 'сильный дождь',\n",
    "              'continuous-heavy-rain': 'длительный сильный дождь', 'showers': 'ливень',\n",
    "              'wet-snow': 'дождь со снегом', 'light-snow': 'небольшой снег', 'snow': 'снег',\n",
    "              'snow-showers': 'снегопад', 'hail': 'град', 'thunderstorm': 'гроза',\n",
    "              'thunderstorm-with-rain': 'дождь с грозой', 'thunderstorm-with-hail': 'гроза с градом'\n",
    "              }\n",
    "wind_dir = {'nw': 'северо-западное', 'n': 'северное', 'ne': 'северо-восточное', 'e': 'восточное',\n",
    "            'se': 'юго-восточное', 's': 'южное', 'sw': 'юго-западное', 'w': 'западное', 'с': 'штиль'}\n",
    "\n",
    "#парсим состояние погоды на данный момент\n",
    "data['fact']['condition'] = conditions[data['fact']['condition']]\n",
    "data['fact']['wind_dir'] = wind_dir[data['fact']['wind_dir']]\n",
    "\n",
    "#парсим прогноз погоды\n",
    "for parts in data['forecast']['parts']:\n",
    "    parts['condition'] = conditions[parts['condition']]\n",
    "    parts['wind_dir'] = wind_dir[parts['wind_dir']]\n",
    "\n",
    "#формируем финальный результат\n",
    "weather = dict()\n",
    "\n",
    "params = ['condition', 'wind_dir', 'pressure_mm', 'humidity']\n",
    "\n",
    "for parts in data['forecast']['parts']:\n",
    "    weather[parts['part_name']] = dict()\n",
    "    weather[parts['part_name']]['temp'] = parts['temp_avg']\n",
    "    for param in params:\n",
    "        weather[parts['part_name']][param] = parts[param]\n",
    "\n",
    "    weather['fact'] = dict()\n",
    "    weather['fact']['temp'] = data['fact']['temp']\n",
    "    for param in params:\n",
    "        weather['fact'][param] = data['fact'][param]\n",
    "\n",
    "    weather['link'] = data['info']['url']\n",
    "\n",
    "#и выводим финальный результат\n",
    "day = {'night': 'ночью', 'morning': 'утром', 'day': 'днем', 'evening': 'вечером', 'fact': 'сейчас'}\n",
    "\n",
    "print(location.address)\n",
    "\n",
    "for i in weather.keys():\n",
    "    if i != 'link':\n",
    "        daytime = day[i]\n",
    "        print(f'Температура {daytime} {weather[i][\"temp\"]} градусов, осадки: {weather[i][\"condition\"]}')\n",
    "print(f'Более подробно: {weather[\"link\"]}')"
   ]
  }
 ],
 "metadata": {
  "kernelspec": {
   "display_name": "Python 3",
   "language": "python",
   "name": "python3"
  },
  "language_info": {
   "codemirror_mode": {
    "name": "ipython",
    "version": 3
   },
   "file_extension": ".py",
   "mimetype": "text/x-python",
   "name": "python",
   "nbconvert_exporter": "python",
   "pygments_lexer": "ipython3",
   "version": "3.11.3"
  },
  "orig_nbformat": 4
 },
 "nbformat": 4,
 "nbformat_minor": 2
}
